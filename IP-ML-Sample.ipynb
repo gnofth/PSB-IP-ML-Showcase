{
 "cells": [
  {
   "cell_type": "markdown",
   "metadata": {},
   "source": [
    "# Introduction to Programming :\n",
    "# ML Group Project Sample\n",
    "This .ipynb notebook is an excerpt of Group C's submission for the Final Mini Project in AY2019 Trimester 3 IP (Introduction to Programming) Module.  \n",
    "\n",
    "Students had to work together to collect data of students studying in PSB Academy and to perform data analysis to create a machine learning model trained using the data collected."
   ]
  },
  {
   "cell_type": "markdown",
   "metadata": {},
   "source": [
    "### Predicting Retention Rate of Diploma Students in PSB Academy\n",
    "\n",
    "A survey consisting of 24 questions was conducted among 229 students, to find out their characterstics and traits. \n",
    "\n",
    "With this dataset, students were allowed to embark on any topic and implement **supervised machine learning** for a binary **classification** problem. \n",
    "\n",
    "Group C chose to predict whether a diploma student studying in PSB Academy would continue to further their education in PSB Academy after graduating from their diploma programme. "
   ]
  },
  {
   "cell_type": "markdown",
   "metadata": {},
   "source": [
    "#### Supervised Machine Learning v.s. Unsupervised Machine Learning\n",
    "In **unsupervised machine learning**, the dataset _does not have_ labelled outputs, and generally these problems are solved through deriving structure from the data based on relationships between the different features of the data.\n",
    "\n",
    "In **supervised machine learning**, the provided dataset has _labelled_ outputs, and the program will try to generalize a relationship between the _input (features)_ and the _output (target variable)_. \n",
    "\n",
    "#### Regression v.s. Classification\n",
    "Supervised machine learning can be further categorized into regression and classification problems:\n",
    "\n",
    "In **regression**, the results to be predicted are within a _countinuous_ output (e.g. given various features of a house, predict the value for how much the house would be sold for).\n",
    "\n",
    "In **classification**, the results to be predicted are within a _discrete_ output (e.g. given various features of an email, predict if the email is a spam email or not)."
   ]
  },
  {
   "cell_type": "markdown",
   "metadata": {},
   "source": [
    "### Import data"
   ]
  },
  {
   "cell_type": "code",
   "execution_count": 1,
   "metadata": {},
   "outputs": [],
   "source": [
    "#First, import pandas and matplotlib (they're preinstalled if you downloaded Anaconda!)\n",
    "\n",
    "#pandas will be used to handle and manipulate the data\n",
    "import pandas as pd\n",
    "\n",
    "#matplotlib is used to visualize data through plotting graphs\n",
    "import matplotlib.pyplot as plt\n",
    "%matplotlib inline\n",
    "\n",
    "#Seaborn is also imported for data visualization\n",
    "import seaborn as sns"
   ]
  },
  {
   "cell_type": "code",
   "execution_count": 2,
   "metadata": {
    "scrolled": true
   },
   "outputs": [
    {
     "data": {
      "text/html": [
       "<div>\n",
       "<style scoped>\n",
       "    .dataframe tbody tr th:only-of-type {\n",
       "        vertical-align: middle;\n",
       "    }\n",
       "\n",
       "    .dataframe tbody tr th {\n",
       "        vertical-align: top;\n",
       "    }\n",
       "\n",
       "    .dataframe thead th {\n",
       "        text-align: right;\n",
       "    }\n",
       "</style>\n",
       "<table border=\"1\" class=\"dataframe\">\n",
       "  <thead>\n",
       "    <tr style=\"text-align: right;\">\n",
       "      <th></th>\n",
       "      <th>Timestamp</th>\n",
       "      <th>Average Grade</th>\n",
       "      <th>Birth Year</th>\n",
       "      <th>Nationality</th>\n",
       "      <th>Gender</th>\n",
       "      <th>Favorite Pastime</th>\n",
       "      <th>Favorite Music Genre</th>\n",
       "      <th>Favorite Sport</th>\n",
       "      <th>Favorite Flavor Type</th>\n",
       "      <th>Personality</th>\n",
       "      <th>...</th>\n",
       "      <th>Aptitude to work in groups</th>\n",
       "      <th>Do you Procrastinate a lot?</th>\n",
       "      <th>Are you organized?</th>\n",
       "      <th>Do you have Siblings? How many?</th>\n",
       "      <th>Monthly Spending</th>\n",
       "      <th>Course After Diploma</th>\n",
       "      <th>Enjoyment of Studying in Singapore</th>\n",
       "      <th>Enjoyment of Studying in PSB Academy</th>\n",
       "      <th>Favorite DICT Module</th>\n",
       "      <th>Hardest DICT Module</th>\n",
       "    </tr>\n",
       "  </thead>\n",
       "  <tbody>\n",
       "    <tr>\n",
       "      <th>0</th>\n",
       "      <td>2019/08/15 10:43:12 PM GMT+8</td>\n",
       "      <td>9</td>\n",
       "      <td>2000</td>\n",
       "      <td>Singaporean</td>\n",
       "      <td>Female</td>\n",
       "      <td>Games</td>\n",
       "      <td>EDM</td>\n",
       "      <td>Hockey</td>\n",
       "      <td>Sweet</td>\n",
       "      <td>1</td>\n",
       "      <td>...</td>\n",
       "      <td>4</td>\n",
       "      <td>Yes</td>\n",
       "      <td>No</td>\n",
       "      <td>0</td>\n",
       "      <td>700</td>\n",
       "      <td>PSB University of Newcastle</td>\n",
       "      <td>1</td>\n",
       "      <td>4</td>\n",
       "      <td>AC</td>\n",
       "      <td>ICOS</td>\n",
       "    </tr>\n",
       "    <tr>\n",
       "      <th>1</th>\n",
       "      <td>2019/08/15 10:44:11 PM GMT+8</td>\n",
       "      <td>7</td>\n",
       "      <td>2000</td>\n",
       "      <td>Malaysian</td>\n",
       "      <td>Female</td>\n",
       "      <td>Physical Sports</td>\n",
       "      <td>Jazz</td>\n",
       "      <td>Tennis</td>\n",
       "      <td>Sweet</td>\n",
       "      <td>3</td>\n",
       "      <td>...</td>\n",
       "      <td>5</td>\n",
       "      <td>No</td>\n",
       "      <td>Yes</td>\n",
       "      <td>3</td>\n",
       "      <td>600</td>\n",
       "      <td>PSB Edith Cowan University</td>\n",
       "      <td>5</td>\n",
       "      <td>9</td>\n",
       "      <td>IP</td>\n",
       "      <td>IP</td>\n",
       "    </tr>\n",
       "    <tr>\n",
       "      <th>2</th>\n",
       "      <td>2019/08/15 10:47:11 PM GMT+8</td>\n",
       "      <td>8</td>\n",
       "      <td>1998</td>\n",
       "      <td>Singaporean</td>\n",
       "      <td>Male</td>\n",
       "      <td>Physical Sports</td>\n",
       "      <td>EDM</td>\n",
       "      <td>Football</td>\n",
       "      <td>Sweet</td>\n",
       "      <td>4</td>\n",
       "      <td>...</td>\n",
       "      <td>7</td>\n",
       "      <td>Yes</td>\n",
       "      <td>Yes</td>\n",
       "      <td>3</td>\n",
       "      <td>400$</td>\n",
       "      <td>PSB University of Newcastle</td>\n",
       "      <td>8</td>\n",
       "      <td>7</td>\n",
       "      <td>ISOG</td>\n",
       "      <td>IP</td>\n",
       "    </tr>\n",
       "    <tr>\n",
       "      <th>3</th>\n",
       "      <td>2019/08/15 10:51:36 PM GMT+8</td>\n",
       "      <td>9</td>\n",
       "      <td>1998</td>\n",
       "      <td>Singaporean</td>\n",
       "      <td>Female</td>\n",
       "      <td>Hanging out with friends outside</td>\n",
       "      <td>Rock</td>\n",
       "      <td>Hockey</td>\n",
       "      <td>Sour</td>\n",
       "      <td>2</td>\n",
       "      <td>...</td>\n",
       "      <td>5</td>\n",
       "      <td>Yes</td>\n",
       "      <td>No</td>\n",
       "      <td>1</td>\n",
       "      <td>$300</td>\n",
       "      <td>PSB University of Newcastle</td>\n",
       "      <td>10</td>\n",
       "      <td>6</td>\n",
       "      <td>DDMG</td>\n",
       "      <td>IP</td>\n",
       "    </tr>\n",
       "    <tr>\n",
       "      <th>4</th>\n",
       "      <td>2019/08/15 10:59:56 PM GMT+8</td>\n",
       "      <td>5</td>\n",
       "      <td>1999</td>\n",
       "      <td>Indian</td>\n",
       "      <td>Female</td>\n",
       "      <td>Hanging out with friends outside</td>\n",
       "      <td>Rock</td>\n",
       "      <td>Basketball</td>\n",
       "      <td>Sweet</td>\n",
       "      <td>3</td>\n",
       "      <td>...</td>\n",
       "      <td>7</td>\n",
       "      <td>No</td>\n",
       "      <td>Yes</td>\n",
       "      <td>1</td>\n",
       "      <td>100 $ pr month</td>\n",
       "      <td>PSB University of Newcastle</td>\n",
       "      <td>1</td>\n",
       "      <td>1</td>\n",
       "      <td>ISEG</td>\n",
       "      <td>INTRODUCTION TO PROGRAMMING</td>\n",
       "    </tr>\n",
       "  </tbody>\n",
       "</table>\n",
       "<p>5 rows × 25 columns</p>\n",
       "</div>"
      ],
      "text/plain": [
       "                      Timestamp  Average Grade Birth Year  Nationality  \\\n",
       "0  2019/08/15 10:43:12 PM GMT+8              9       2000  Singaporean   \n",
       "1  2019/08/15 10:44:11 PM GMT+8              7       2000    Malaysian   \n",
       "2  2019/08/15 10:47:11 PM GMT+8              8       1998  Singaporean   \n",
       "3  2019/08/15 10:51:36 PM GMT+8              9       1998  Singaporean   \n",
       "4  2019/08/15 10:59:56 PM GMT+8              5       1999       Indian   \n",
       "\n",
       "   Gender                  Favorite Pastime Favorite Music Genre  \\\n",
       "0  Female                             Games                  EDM   \n",
       "1  Female                   Physical Sports                 Jazz   \n",
       "2    Male                   Physical Sports                  EDM   \n",
       "3  Female  Hanging out with friends outside                 Rock   \n",
       "4  Female  Hanging out with friends outside                 Rock   \n",
       "\n",
       "  Favorite Sport Favorite Flavor Type  Personality  ...  \\\n",
       "0         Hockey                Sweet            1  ...   \n",
       "1         Tennis                Sweet            3  ...   \n",
       "2       Football                Sweet            4  ...   \n",
       "3         Hockey                 Sour            2  ...   \n",
       "4     Basketball                Sweet            3  ...   \n",
       "\n",
       "  Aptitude to work in groups Do you Procrastinate a lot? Are you organized?  \\\n",
       "0                          4                         Yes                 No   \n",
       "1                          5                          No                Yes   \n",
       "2                          7                         Yes                Yes   \n",
       "3                          5                         Yes                 No   \n",
       "4                          7                          No                Yes   \n",
       "\n",
       "   Do you have Siblings? How many? Monthly Spending  \\\n",
       "0                                0              700   \n",
       "1                                3              600   \n",
       "2                                3             400$   \n",
       "3                                1             $300   \n",
       "4                                1   100 $ pr month   \n",
       "\n",
       "          Course After Diploma Enjoyment of Studying in Singapore  \\\n",
       "0  PSB University of Newcastle                                  1   \n",
       "1   PSB Edith Cowan University                                  5   \n",
       "2  PSB University of Newcastle                                  8   \n",
       "3  PSB University of Newcastle                                 10   \n",
       "4  PSB University of Newcastle                                  1   \n",
       "\n",
       "  Enjoyment of Studying in PSB Academy  Favorite DICT Module  \\\n",
       "0                                    4                    AC   \n",
       "1                                    9                    IP   \n",
       "2                                    7                 ISOG    \n",
       "3                                    6                  DDMG   \n",
       "4                                    1                  ISEG   \n",
       "\n",
       "           Hardest DICT Module  \n",
       "0                         ICOS  \n",
       "1                           IP  \n",
       "2                           IP  \n",
       "3                           IP  \n",
       "4  INTRODUCTION TO PROGRAMMING  \n",
       "\n",
       "[5 rows x 25 columns]"
      ]
     },
     "execution_count": 2,
     "metadata": {},
     "output_type": "execute_result"
    }
   ],
   "source": [
    "psb = pd.read_csv('psb_survey.csv')\n",
    "\n",
    "#the .head() method will display the first five rows of our dataset\n",
    "psb.head()"
   ]
  },
  {
   "cell_type": "code",
   "execution_count": 3,
   "metadata": {},
   "outputs": [
    {
     "data": {
      "text/plain": [
       "(230, 25)"
      ]
     },
     "execution_count": 3,
     "metadata": {},
     "output_type": "execute_result"
    }
   ],
   "source": [
    "#.shape will output (number of rows, number of columns)\n",
    "psb.shape"
   ]
  },
  {
   "cell_type": "code",
   "execution_count": 4,
   "metadata": {},
   "outputs": [
    {
     "data": {
      "text/plain": [
       "Index(['Timestamp', 'Average Grade', 'Birth Year', 'Nationality', 'Gender',\n",
       "       'Favorite Pastime', 'Favorite Music Genre', 'Favorite Sport',\n",
       "       'Favorite Flavor Type', 'Personality', 'Typical Sleeping Hour',\n",
       "       'Do you smoke?', 'Favorite Color', 'Favorite Digit', 'Horoscope',\n",
       "       'Aptitude to work in groups', 'Do you Procrastinate a lot?',\n",
       "       'Are you organized?', 'Do you have Siblings? How many?',\n",
       "       'Monthly Spending', 'Course After Diploma',\n",
       "       'Enjoyment of Studying in Singapore',\n",
       "       'Enjoyment of Studying in PSB Academy', 'Favorite DICT Module',\n",
       "       'Hardest DICT Module'],\n",
       "      dtype='object')"
      ]
     },
     "execution_count": 4,
     "metadata": {},
     "output_type": "execute_result"
    }
   ],
   "source": [
    "#.columns will ouput the labels for our columns\n",
    "psb.columns"
   ]
  },
  {
   "cell_type": "code",
   "execution_count": 5,
   "metadata": {},
   "outputs": [
    {
     "data": {
      "text/html": [
       "<div>\n",
       "<style scoped>\n",
       "    .dataframe tbody tr th:only-of-type {\n",
       "        vertical-align: middle;\n",
       "    }\n",
       "\n",
       "    .dataframe tbody tr th {\n",
       "        vertical-align: top;\n",
       "    }\n",
       "\n",
       "    .dataframe thead th {\n",
       "        text-align: right;\n",
       "    }\n",
       "</style>\n",
       "<table border=\"1\" class=\"dataframe\">\n",
       "  <thead>\n",
       "    <tr style=\"text-align: right;\">\n",
       "      <th></th>\n",
       "      <th>Time</th>\n",
       "      <th>Grade</th>\n",
       "      <th>BirthYear</th>\n",
       "      <th>Nationality</th>\n",
       "      <th>Gender</th>\n",
       "      <th>Pastime</th>\n",
       "      <th>FavMusic</th>\n",
       "      <th>FavSport</th>\n",
       "      <th>FavFlavor</th>\n",
       "      <th>Personality</th>\n",
       "      <th>...</th>\n",
       "      <th>Aptitude</th>\n",
       "      <th>Procrastine</th>\n",
       "      <th>Organized</th>\n",
       "      <th>NoSib</th>\n",
       "      <th>MonthlySpending</th>\n",
       "      <th>Course</th>\n",
       "      <th>LikeSingapore</th>\n",
       "      <th>LikePSB</th>\n",
       "      <th>FavModule</th>\n",
       "      <th>HardestModule</th>\n",
       "    </tr>\n",
       "  </thead>\n",
       "  <tbody>\n",
       "    <tr>\n",
       "      <th>0</th>\n",
       "      <td>2019/08/15 10:43:12 PM GMT+8</td>\n",
       "      <td>9</td>\n",
       "      <td>2000</td>\n",
       "      <td>Singaporean</td>\n",
       "      <td>Female</td>\n",
       "      <td>Games</td>\n",
       "      <td>EDM</td>\n",
       "      <td>Hockey</td>\n",
       "      <td>Sweet</td>\n",
       "      <td>1</td>\n",
       "      <td>...</td>\n",
       "      <td>4</td>\n",
       "      <td>Yes</td>\n",
       "      <td>No</td>\n",
       "      <td>0</td>\n",
       "      <td>700</td>\n",
       "      <td>PSB University of Newcastle</td>\n",
       "      <td>1</td>\n",
       "      <td>4</td>\n",
       "      <td>AC</td>\n",
       "      <td>ICOS</td>\n",
       "    </tr>\n",
       "    <tr>\n",
       "      <th>1</th>\n",
       "      <td>2019/08/15 10:44:11 PM GMT+8</td>\n",
       "      <td>7</td>\n",
       "      <td>2000</td>\n",
       "      <td>Malaysian</td>\n",
       "      <td>Female</td>\n",
       "      <td>Physical Sports</td>\n",
       "      <td>Jazz</td>\n",
       "      <td>Tennis</td>\n",
       "      <td>Sweet</td>\n",
       "      <td>3</td>\n",
       "      <td>...</td>\n",
       "      <td>5</td>\n",
       "      <td>No</td>\n",
       "      <td>Yes</td>\n",
       "      <td>3</td>\n",
       "      <td>600</td>\n",
       "      <td>PSB Edith Cowan University</td>\n",
       "      <td>5</td>\n",
       "      <td>9</td>\n",
       "      <td>IP</td>\n",
       "      <td>IP</td>\n",
       "    </tr>\n",
       "    <tr>\n",
       "      <th>2</th>\n",
       "      <td>2019/08/15 10:47:11 PM GMT+8</td>\n",
       "      <td>8</td>\n",
       "      <td>1998</td>\n",
       "      <td>Singaporean</td>\n",
       "      <td>Male</td>\n",
       "      <td>Physical Sports</td>\n",
       "      <td>EDM</td>\n",
       "      <td>Football</td>\n",
       "      <td>Sweet</td>\n",
       "      <td>4</td>\n",
       "      <td>...</td>\n",
       "      <td>7</td>\n",
       "      <td>Yes</td>\n",
       "      <td>Yes</td>\n",
       "      <td>3</td>\n",
       "      <td>400$</td>\n",
       "      <td>PSB University of Newcastle</td>\n",
       "      <td>8</td>\n",
       "      <td>7</td>\n",
       "      <td>ISOG</td>\n",
       "      <td>IP</td>\n",
       "    </tr>\n",
       "    <tr>\n",
       "      <th>3</th>\n",
       "      <td>2019/08/15 10:51:36 PM GMT+8</td>\n",
       "      <td>9</td>\n",
       "      <td>1998</td>\n",
       "      <td>Singaporean</td>\n",
       "      <td>Female</td>\n",
       "      <td>Hanging out with friends outside</td>\n",
       "      <td>Rock</td>\n",
       "      <td>Hockey</td>\n",
       "      <td>Sour</td>\n",
       "      <td>2</td>\n",
       "      <td>...</td>\n",
       "      <td>5</td>\n",
       "      <td>Yes</td>\n",
       "      <td>No</td>\n",
       "      <td>1</td>\n",
       "      <td>$300</td>\n",
       "      <td>PSB University of Newcastle</td>\n",
       "      <td>10</td>\n",
       "      <td>6</td>\n",
       "      <td>DDMG</td>\n",
       "      <td>IP</td>\n",
       "    </tr>\n",
       "    <tr>\n",
       "      <th>4</th>\n",
       "      <td>2019/08/15 10:59:56 PM GMT+8</td>\n",
       "      <td>5</td>\n",
       "      <td>1999</td>\n",
       "      <td>Indian</td>\n",
       "      <td>Female</td>\n",
       "      <td>Hanging out with friends outside</td>\n",
       "      <td>Rock</td>\n",
       "      <td>Basketball</td>\n",
       "      <td>Sweet</td>\n",
       "      <td>3</td>\n",
       "      <td>...</td>\n",
       "      <td>7</td>\n",
       "      <td>No</td>\n",
       "      <td>Yes</td>\n",
       "      <td>1</td>\n",
       "      <td>100 $ pr month</td>\n",
       "      <td>PSB University of Newcastle</td>\n",
       "      <td>1</td>\n",
       "      <td>1</td>\n",
       "      <td>ISEG</td>\n",
       "      <td>INTRODUCTION TO PROGRAMMING</td>\n",
       "    </tr>\n",
       "  </tbody>\n",
       "</table>\n",
       "<p>5 rows × 25 columns</p>\n",
       "</div>"
      ],
      "text/plain": [
       "                           Time  Grade BirthYear  Nationality  Gender  \\\n",
       "0  2019/08/15 10:43:12 PM GMT+8      9      2000  Singaporean  Female   \n",
       "1  2019/08/15 10:44:11 PM GMT+8      7      2000    Malaysian  Female   \n",
       "2  2019/08/15 10:47:11 PM GMT+8      8      1998  Singaporean    Male   \n",
       "3  2019/08/15 10:51:36 PM GMT+8      9      1998  Singaporean  Female   \n",
       "4  2019/08/15 10:59:56 PM GMT+8      5      1999       Indian  Female   \n",
       "\n",
       "                            Pastime FavMusic    FavSport FavFlavor  \\\n",
       "0                             Games      EDM      Hockey     Sweet   \n",
       "1                   Physical Sports     Jazz      Tennis     Sweet   \n",
       "2                   Physical Sports      EDM    Football     Sweet   \n",
       "3  Hanging out with friends outside     Rock      Hockey      Sour   \n",
       "4  Hanging out with friends outside     Rock  Basketball     Sweet   \n",
       "\n",
       "   Personality  ... Aptitude Procrastine Organized  NoSib MonthlySpending  \\\n",
       "0            1  ...        4         Yes        No      0             700   \n",
       "1            3  ...        5          No       Yes      3             600   \n",
       "2            4  ...        7         Yes       Yes      3            400$   \n",
       "3            2  ...        5         Yes        No      1            $300   \n",
       "4            3  ...        7          No       Yes      1  100 $ pr month   \n",
       "\n",
       "                        Course LikeSingapore LikePSB  FavModule  \\\n",
       "0  PSB University of Newcastle             1       4         AC   \n",
       "1   PSB Edith Cowan University             5       9         IP   \n",
       "2  PSB University of Newcastle             8       7      ISOG    \n",
       "3  PSB University of Newcastle            10       6       DDMG   \n",
       "4  PSB University of Newcastle             1       1       ISEG   \n",
       "\n",
       "                 HardestModule  \n",
       "0                         ICOS  \n",
       "1                           IP  \n",
       "2                           IP  \n",
       "3                           IP  \n",
       "4  INTRODUCTION TO PROGRAMMING  \n",
       "\n",
       "[5 rows x 25 columns]"
      ]
     },
     "execution_count": 5,
     "metadata": {},
     "output_type": "execute_result"
    }
   ],
   "source": [
    "#Here, we rename the column names\n",
    "psb.columns=['Time','Grade','BirthYear','Nationality','Gender','Pastime',\n",
    "             'FavMusic','FavSport','FavFlavor','Personality','HrSleep',\n",
    "             'Smoker','FavColor','FavDigit','Horoscope','Aptitude',\n",
    "             'Procrastine','Organized','NoSib','MonthlySpending','Course',\n",
    "             'LikeSingapore','LikePSB','FavModule','HardestModule']\n",
    "\n",
    "#Running .head() again will show us that the column names have indeed changed\n",
    "psb.head()"
   ]
  },
  {
   "cell_type": "code",
   "execution_count": 6,
   "metadata": {},
   "outputs": [
    {
     "data": {
      "text/plain": [
       "Index(['Grade', 'Nationality', 'Personality', 'Aptitude', 'NoSib', 'Course',\n",
       "       'LikeSingapore', 'LikePSB'],\n",
       "      dtype='object')"
      ]
     },
     "execution_count": 6,
     "metadata": {},
     "output_type": "execute_result"
    }
   ],
   "source": [
    "#Group C dropped the columns that are unlikely to affect the prediction\n",
    "psb= psb.drop(columns = [\"Time\", \"BirthYear\", \"Gender\", \"Pastime\", \"FavMusic\",\n",
    "                          \"FavSport\", \"FavFlavor\", \"HrSleep\", \"MonthlySpending\",\n",
    "                          \"FavModule\", \"HardestModule\", \"Smoker\", \"FavColor\",\n",
    "                          \"FavDigit\", \"Horoscope\", \"Procrastine\", \"Organized\"])\n",
    "\n",
    "#This will output the remaining columns to be used as the features\n",
    "psb.columns"
   ]
  },
  {
   "cell_type": "code",
   "execution_count": 7,
   "metadata": {},
   "outputs": [
    {
     "data": {
      "text/html": [
       "<div>\n",
       "<style scoped>\n",
       "    .dataframe tbody tr th:only-of-type {\n",
       "        vertical-align: middle;\n",
       "    }\n",
       "\n",
       "    .dataframe tbody tr th {\n",
       "        vertical-align: top;\n",
       "    }\n",
       "\n",
       "    .dataframe thead th {\n",
       "        text-align: right;\n",
       "    }\n",
       "</style>\n",
       "<table border=\"1\" class=\"dataframe\">\n",
       "  <thead>\n",
       "    <tr style=\"text-align: right;\">\n",
       "      <th></th>\n",
       "      <th>Grade</th>\n",
       "      <th>Nationality</th>\n",
       "      <th>Personality</th>\n",
       "      <th>Aptitude</th>\n",
       "      <th>NoSib</th>\n",
       "      <th>Course</th>\n",
       "      <th>LikeSingapore</th>\n",
       "      <th>LikePSB</th>\n",
       "    </tr>\n",
       "  </thead>\n",
       "  <tbody>\n",
       "    <tr>\n",
       "      <th>0</th>\n",
       "      <td>9</td>\n",
       "      <td>Singaporean</td>\n",
       "      <td>1</td>\n",
       "      <td>4</td>\n",
       "      <td>0</td>\n",
       "      <td>PSB University of Newcastle</td>\n",
       "      <td>1</td>\n",
       "      <td>4</td>\n",
       "    </tr>\n",
       "    <tr>\n",
       "      <th>1</th>\n",
       "      <td>7</td>\n",
       "      <td>Malaysian</td>\n",
       "      <td>3</td>\n",
       "      <td>5</td>\n",
       "      <td>3</td>\n",
       "      <td>PSB Edith Cowan University</td>\n",
       "      <td>5</td>\n",
       "      <td>9</td>\n",
       "    </tr>\n",
       "    <tr>\n",
       "      <th>2</th>\n",
       "      <td>8</td>\n",
       "      <td>Singaporean</td>\n",
       "      <td>4</td>\n",
       "      <td>7</td>\n",
       "      <td>3</td>\n",
       "      <td>PSB University of Newcastle</td>\n",
       "      <td>8</td>\n",
       "      <td>7</td>\n",
       "    </tr>\n",
       "    <tr>\n",
       "      <th>3</th>\n",
       "      <td>9</td>\n",
       "      <td>Singaporean</td>\n",
       "      <td>2</td>\n",
       "      <td>5</td>\n",
       "      <td>1</td>\n",
       "      <td>PSB University of Newcastle</td>\n",
       "      <td>10</td>\n",
       "      <td>6</td>\n",
       "    </tr>\n",
       "    <tr>\n",
       "      <th>4</th>\n",
       "      <td>5</td>\n",
       "      <td>Indian</td>\n",
       "      <td>3</td>\n",
       "      <td>7</td>\n",
       "      <td>1</td>\n",
       "      <td>PSB University of Newcastle</td>\n",
       "      <td>1</td>\n",
       "      <td>1</td>\n",
       "    </tr>\n",
       "  </tbody>\n",
       "</table>\n",
       "</div>"
      ],
      "text/plain": [
       "   Grade  Nationality  Personality  Aptitude  NoSib  \\\n",
       "0      9  Singaporean            1         4      0   \n",
       "1      7    Malaysian            3         5      3   \n",
       "2      8  Singaporean            4         7      3   \n",
       "3      9  Singaporean            2         5      1   \n",
       "4      5       Indian            3         7      1   \n",
       "\n",
       "                        Course  LikeSingapore  LikePSB  \n",
       "0  PSB University of Newcastle              1        4  \n",
       "1   PSB Edith Cowan University              5        9  \n",
       "2  PSB University of Newcastle              8        7  \n",
       "3  PSB University of Newcastle             10        6  \n",
       "4  PSB University of Newcastle              1        1  "
      ]
     },
     "execution_count": 7,
     "metadata": {},
     "output_type": "execute_result"
    }
   ],
   "source": [
    "psb.head()"
   ]
  },
  {
   "cell_type": "markdown",
   "metadata": {},
   "source": [
    "### Nationality"
   ]
  },
  {
   "cell_type": "code",
   "execution_count": 8,
   "metadata": {
    "scrolled": true
   },
   "outputs": [
    {
     "data": {
      "text/plain": [
       "Singaporean    61\n",
       "Korean         51\n",
       "Malaysian      32\n",
       "Indonesian     31\n",
       "Burmese        14\n",
       "Indian         12\n",
       "Chinese         8\n",
       "Indian          5\n",
       "indian          2\n",
       "China           2\n",
       "Vietnamese      2\n",
       "Australian      1\n",
       "Srilankan       1\n",
       "chinese         1\n",
       "vietnam         1\n",
       "filipino        1\n",
       "Thai            1\n",
       "Saudi Arab      1\n",
       "Bangladesh      1\n",
       "Chinese         1\n",
       "Taiwanese       1\n",
       "Name: Nationality, dtype: int64"
      ]
     },
     "execution_count": 8,
     "metadata": {},
     "output_type": "execute_result"
    }
   ],
   "source": [
    "#.value_counts() on the 'Nationality' column will output the number of each nationalities who responded to the survey\n",
    "psb['Nationality'].value_counts()"
   ]
  },
  {
   "cell_type": "code",
   "execution_count": 9,
   "metadata": {},
   "outputs": [
    {
     "data": {
      "text/html": [
       "<div>\n",
       "<style scoped>\n",
       "    .dataframe tbody tr th:only-of-type {\n",
       "        vertical-align: middle;\n",
       "    }\n",
       "\n",
       "    .dataframe tbody tr th {\n",
       "        vertical-align: top;\n",
       "    }\n",
       "\n",
       "    .dataframe thead th {\n",
       "        text-align: right;\n",
       "    }\n",
       "</style>\n",
       "<table border=\"1\" class=\"dataframe\">\n",
       "  <thead>\n",
       "    <tr style=\"text-align: right;\">\n",
       "      <th></th>\n",
       "      <th>Grade</th>\n",
       "      <th>Personality</th>\n",
       "      <th>Aptitude</th>\n",
       "      <th>NoSib</th>\n",
       "      <th>Course</th>\n",
       "      <th>LikeSingapore</th>\n",
       "      <th>LikePSB</th>\n",
       "      <th>Singaporean</th>\n",
       "    </tr>\n",
       "  </thead>\n",
       "  <tbody>\n",
       "    <tr>\n",
       "      <th>0</th>\n",
       "      <td>9</td>\n",
       "      <td>1</td>\n",
       "      <td>4</td>\n",
       "      <td>0</td>\n",
       "      <td>PSB University of Newcastle</td>\n",
       "      <td>1</td>\n",
       "      <td>4</td>\n",
       "      <td>1.0</td>\n",
       "    </tr>\n",
       "    <tr>\n",
       "      <th>1</th>\n",
       "      <td>7</td>\n",
       "      <td>3</td>\n",
       "      <td>5</td>\n",
       "      <td>3</td>\n",
       "      <td>PSB Edith Cowan University</td>\n",
       "      <td>5</td>\n",
       "      <td>9</td>\n",
       "      <td>0.0</td>\n",
       "    </tr>\n",
       "    <tr>\n",
       "      <th>2</th>\n",
       "      <td>8</td>\n",
       "      <td>4</td>\n",
       "      <td>7</td>\n",
       "      <td>3</td>\n",
       "      <td>PSB University of Newcastle</td>\n",
       "      <td>8</td>\n",
       "      <td>7</td>\n",
       "      <td>1.0</td>\n",
       "    </tr>\n",
       "    <tr>\n",
       "      <th>3</th>\n",
       "      <td>9</td>\n",
       "      <td>2</td>\n",
       "      <td>5</td>\n",
       "      <td>1</td>\n",
       "      <td>PSB University of Newcastle</td>\n",
       "      <td>10</td>\n",
       "      <td>6</td>\n",
       "      <td>1.0</td>\n",
       "    </tr>\n",
       "    <tr>\n",
       "      <th>4</th>\n",
       "      <td>5</td>\n",
       "      <td>3</td>\n",
       "      <td>7</td>\n",
       "      <td>1</td>\n",
       "      <td>PSB University of Newcastle</td>\n",
       "      <td>1</td>\n",
       "      <td>1</td>\n",
       "      <td>0.0</td>\n",
       "    </tr>\n",
       "  </tbody>\n",
       "</table>\n",
       "</div>"
      ],
      "text/plain": [
       "   Grade  Personality  Aptitude  NoSib                       Course  \\\n",
       "0      9            1         4      0  PSB University of Newcastle   \n",
       "1      7            3         5      3   PSB Edith Cowan University   \n",
       "2      8            4         7      3  PSB University of Newcastle   \n",
       "3      9            2         5      1  PSB University of Newcastle   \n",
       "4      5            3         7      1  PSB University of Newcastle   \n",
       "\n",
       "   LikeSingapore  LikePSB  Singaporean  \n",
       "0              1        4          1.0  \n",
       "1              5        9          0.0  \n",
       "2              8        7          1.0  \n",
       "3             10        6          1.0  \n",
       "4              1        1          0.0  "
      ]
     },
     "execution_count": 9,
     "metadata": {},
     "output_type": "execute_result"
    }
   ],
   "source": [
    "#Group C decided to sort the Nationalities according to if they are a local student or a student from outside of Singapore\n",
    "\n",
    "#In the following code, a new column named 'Singaporean' will be created\n",
    "\n",
    "#Singaporeans are represented as 1 in the column\n",
    "psb.loc[psb['Nationality'].str.contains('Singaporean'),\"Singaporean\"]=1\n",
    "\n",
    "#Non-Singaporeans are represented as 0 in the column\n",
    "psb.loc[psb['Nationality']!='Singaporean',\"Singaporean\"]=0\n",
    "\n",
    "#The column for 'Nationaility' will no longer be needed and hence will be dropped\n",
    "psb = psb.drop(columns = ['Nationality'])\n",
    "psb.head()"
   ]
  },
  {
   "cell_type": "markdown",
   "metadata": {},
   "source": [
    "### Course"
   ]
  },
  {
   "cell_type": "code",
   "execution_count": 10,
   "metadata": {},
   "outputs": [
    {
     "data": {
      "text/plain": [
       "PSB University of Newcastle       74\n",
       "PSB Coventry University           59\n",
       "PSB Edith Cowan University        27\n",
       "No Further Studies                22\n",
       "Other institution Overseas        21\n",
       "Other Institution in Singapore    17\n",
       "PSB UOW                            1\n",
       "I will become an entrepreneur      1\n",
       "Latrobe University in PSB          1\n",
       "Not in Singapore                   1\n",
       "Or some other idk                  1\n",
       "UOW                                1\n",
       "Going back to korea😥               1\n",
       "University in Malaysia             1\n",
       "Work first for school income       1\n",
       "PSB Edinbrugh                      1\n",
       "Name: Course, dtype: int64"
      ]
     },
     "execution_count": 10,
     "metadata": {},
     "output_type": "execute_result"
    }
   ],
   "source": [
    "#.value_counts() here is used for the 'Course' column instead of the 'Nationalities' column\n",
    "psb['Course'].value_counts()"
   ]
  },
  {
   "cell_type": "code",
   "execution_count": 11,
   "metadata": {},
   "outputs": [
    {
     "data": {
      "text/html": [
       "<div>\n",
       "<style scoped>\n",
       "    .dataframe tbody tr th:only-of-type {\n",
       "        vertical-align: middle;\n",
       "    }\n",
       "\n",
       "    .dataframe tbody tr th {\n",
       "        vertical-align: top;\n",
       "    }\n",
       "\n",
       "    .dataframe thead th {\n",
       "        text-align: right;\n",
       "    }\n",
       "</style>\n",
       "<table border=\"1\" class=\"dataframe\">\n",
       "  <thead>\n",
       "    <tr style=\"text-align: right;\">\n",
       "      <th></th>\n",
       "      <th>Grade</th>\n",
       "      <th>Personality</th>\n",
       "      <th>Aptitude</th>\n",
       "      <th>NoSib</th>\n",
       "      <th>LikeSingapore</th>\n",
       "      <th>LikePSB</th>\n",
       "      <th>Singaporean</th>\n",
       "      <th>psbCourse</th>\n",
       "    </tr>\n",
       "  </thead>\n",
       "  <tbody>\n",
       "    <tr>\n",
       "      <th>0</th>\n",
       "      <td>9</td>\n",
       "      <td>1</td>\n",
       "      <td>4</td>\n",
       "      <td>0</td>\n",
       "      <td>1</td>\n",
       "      <td>4</td>\n",
       "      <td>1.0</td>\n",
       "      <td>1.0</td>\n",
       "    </tr>\n",
       "    <tr>\n",
       "      <th>1</th>\n",
       "      <td>7</td>\n",
       "      <td>3</td>\n",
       "      <td>5</td>\n",
       "      <td>3</td>\n",
       "      <td>5</td>\n",
       "      <td>9</td>\n",
       "      <td>0.0</td>\n",
       "      <td>1.0</td>\n",
       "    </tr>\n",
       "    <tr>\n",
       "      <th>2</th>\n",
       "      <td>8</td>\n",
       "      <td>4</td>\n",
       "      <td>7</td>\n",
       "      <td>3</td>\n",
       "      <td>8</td>\n",
       "      <td>7</td>\n",
       "      <td>1.0</td>\n",
       "      <td>1.0</td>\n",
       "    </tr>\n",
       "    <tr>\n",
       "      <th>3</th>\n",
       "      <td>9</td>\n",
       "      <td>2</td>\n",
       "      <td>5</td>\n",
       "      <td>1</td>\n",
       "      <td>10</td>\n",
       "      <td>6</td>\n",
       "      <td>1.0</td>\n",
       "      <td>1.0</td>\n",
       "    </tr>\n",
       "    <tr>\n",
       "      <th>4</th>\n",
       "      <td>5</td>\n",
       "      <td>3</td>\n",
       "      <td>7</td>\n",
       "      <td>1</td>\n",
       "      <td>1</td>\n",
       "      <td>1</td>\n",
       "      <td>0.0</td>\n",
       "      <td>1.0</td>\n",
       "    </tr>\n",
       "  </tbody>\n",
       "</table>\n",
       "</div>"
      ],
      "text/plain": [
       "   Grade  Personality  Aptitude  NoSib  LikeSingapore  LikePSB  Singaporean  \\\n",
       "0      9            1         4      0              1        4          1.0   \n",
       "1      7            3         5      3              5        9          0.0   \n",
       "2      8            4         7      3              8        7          1.0   \n",
       "3      9            2         5      1             10        6          1.0   \n",
       "4      5            3         7      1              1        1          0.0   \n",
       "\n",
       "   psbCourse  \n",
       "0        1.0  \n",
       "1        1.0  \n",
       "2        1.0  \n",
       "3        1.0  \n",
       "4        1.0  "
      ]
     },
     "execution_count": 11,
     "metadata": {},
     "output_type": "execute_result"
    }
   ],
   "source": [
    "#A new column named 'psbCourse' will be created in the following code\n",
    "\n",
    "#Students who will continue to study in PSB Academy will be represented as 1\n",
    "psb.loc[psb['Course'].str.contains('PSB'),\"psbCourse\"]=1\n",
    "\n",
    "#The remaining students will be represented as 0 \n",
    "psb['psbCourse'].fillna(0,inplace=True)\n",
    "\n",
    "#The column for 'Course' will no longer be needed and hence will be dropped\n",
    "psb = psb.drop(columns = [\"Course\"])\n",
    "\n",
    "psb.head()"
   ]
  },
  {
   "cell_type": "markdown",
   "metadata": {},
   "source": [
    "### NoSib"
   ]
  },
  {
   "cell_type": "code",
   "execution_count": 12,
   "metadata": {},
   "outputs": [
    {
     "data": {
      "text/html": [
       "<div>\n",
       "<style scoped>\n",
       "    .dataframe tbody tr th:only-of-type {\n",
       "        vertical-align: middle;\n",
       "    }\n",
       "\n",
       "    .dataframe tbody tr th {\n",
       "        vertical-align: top;\n",
       "    }\n",
       "\n",
       "    .dataframe thead th {\n",
       "        text-align: right;\n",
       "    }\n",
       "</style>\n",
       "<table border=\"1\" class=\"dataframe\">\n",
       "  <thead>\n",
       "    <tr style=\"text-align: right;\">\n",
       "      <th></th>\n",
       "      <th>Grade</th>\n",
       "      <th>Personality</th>\n",
       "      <th>Aptitude</th>\n",
       "      <th>LikeSingapore</th>\n",
       "      <th>LikePSB</th>\n",
       "      <th>Singaporean</th>\n",
       "      <th>psbCourse</th>\n",
       "      <th>noSib</th>\n",
       "    </tr>\n",
       "  </thead>\n",
       "  <tbody>\n",
       "    <tr>\n",
       "      <th>0</th>\n",
       "      <td>9</td>\n",
       "      <td>1</td>\n",
       "      <td>4</td>\n",
       "      <td>1</td>\n",
       "      <td>4</td>\n",
       "      <td>1.0</td>\n",
       "      <td>1.0</td>\n",
       "      <td>1.0</td>\n",
       "    </tr>\n",
       "    <tr>\n",
       "      <th>1</th>\n",
       "      <td>7</td>\n",
       "      <td>3</td>\n",
       "      <td>5</td>\n",
       "      <td>5</td>\n",
       "      <td>9</td>\n",
       "      <td>0.0</td>\n",
       "      <td>1.0</td>\n",
       "      <td>0.0</td>\n",
       "    </tr>\n",
       "    <tr>\n",
       "      <th>2</th>\n",
       "      <td>8</td>\n",
       "      <td>4</td>\n",
       "      <td>7</td>\n",
       "      <td>8</td>\n",
       "      <td>7</td>\n",
       "      <td>1.0</td>\n",
       "      <td>1.0</td>\n",
       "      <td>0.0</td>\n",
       "    </tr>\n",
       "    <tr>\n",
       "      <th>3</th>\n",
       "      <td>9</td>\n",
       "      <td>2</td>\n",
       "      <td>5</td>\n",
       "      <td>10</td>\n",
       "      <td>6</td>\n",
       "      <td>1.0</td>\n",
       "      <td>1.0</td>\n",
       "      <td>0.0</td>\n",
       "    </tr>\n",
       "    <tr>\n",
       "      <th>4</th>\n",
       "      <td>5</td>\n",
       "      <td>3</td>\n",
       "      <td>7</td>\n",
       "      <td>1</td>\n",
       "      <td>1</td>\n",
       "      <td>0.0</td>\n",
       "      <td>1.0</td>\n",
       "      <td>0.0</td>\n",
       "    </tr>\n",
       "  </tbody>\n",
       "</table>\n",
       "</div>"
      ],
      "text/plain": [
       "   Grade  Personality  Aptitude  LikeSingapore  LikePSB  Singaporean  \\\n",
       "0      9            1         4              1        4          1.0   \n",
       "1      7            3         5              5        9          0.0   \n",
       "2      8            4         7              8        7          1.0   \n",
       "3      9            2         5             10        6          1.0   \n",
       "4      5            3         7              1        1          0.0   \n",
       "\n",
       "   psbCourse  noSib  \n",
       "0        1.0    1.0  \n",
       "1        1.0    0.0  \n",
       "2        1.0    0.0  \n",
       "3        1.0    0.0  \n",
       "4        1.0    0.0  "
      ]
     },
     "execution_count": 12,
     "metadata": {},
     "output_type": "execute_result"
    }
   ],
   "source": [
    "#In this cell, a 'noSib' column will be created \n",
    "\n",
    "#Students with no siblings are represented with a 1\n",
    "psb.loc[psb['NoSib'] ==0,'noSib']=1\n",
    "\n",
    "#Students with siblings are 0\n",
    "psb.loc[psb['NoSib'] !=0,'noSib']=0\n",
    "\n",
    "#The original \"NoSib\" (No. of Siblings) columns will be dropped\n",
    "psb = psb.drop(columns = ['NoSib'])\n",
    "\n",
    "psb.head()"
   ]
  },
  {
   "cell_type": "markdown",
   "metadata": {},
   "source": [
    "### Data Visualization"
   ]
  },
  {
   "cell_type": "markdown",
   "metadata": {},
   "source": [
    "##### Barplot of Students (Singaporean)"
   ]
  },
  {
   "cell_type": "code",
   "execution_count": 13,
   "metadata": {},
   "outputs": [
    {
     "data": {
      "image/png": "[encoded data removed]",
      "text/plain": [
       "<Figure size 432x288 with 1 Axes>"
      ]
     },
     "metadata": {
      "needs_background": "light"
     },
     "output_type": "display_data"
    },
    {
     "data": {
      "text/html": [
       "<div>\n",
       "<style scoped>\n",
       "    .dataframe tbody tr th:only-of-type {\n",
       "        vertical-align: middle;\n",
       "    }\n",
       "\n",
       "    .dataframe tbody tr th {\n",
       "        vertical-align: top;\n",
       "    }\n",
       "\n",
       "    .dataframe thead th {\n",
       "        text-align: right;\n",
       "    }\n",
       "</style>\n",
       "<table border=\"1\" class=\"dataframe\">\n",
       "  <thead>\n",
       "    <tr style=\"text-align: right;\">\n",
       "      <th></th>\n",
       "      <th>Singaporean</th>\n",
       "      <th>psbCourse</th>\n",
       "    </tr>\n",
       "  </thead>\n",
       "  <tbody>\n",
       "    <tr>\n",
       "      <th>1</th>\n",
       "      <td>1.0</td>\n",
       "      <td>0.836066</td>\n",
       "    </tr>\n",
       "    <tr>\n",
       "      <th>0</th>\n",
       "      <td>0.0</td>\n",
       "      <td>0.662722</td>\n",
       "    </tr>\n",
       "  </tbody>\n",
       "</table>\n",
       "</div>"
      ],
      "text/plain": [
       "   Singaporean  psbCourse\n",
       "1          1.0   0.836066\n",
       "0          0.0   0.662722"
      ]
     },
     "execution_count": 13,
     "metadata": {},
     "output_type": "execute_result"
    }
   ],
   "source": [
    "sns.barplot(x='Singaporean', y='psbCourse', data=psb)\n",
    "plt.ylabel('Rate of Students Remaining in PSB')\n",
    "plt.title('Barplot of Students (Singaporean)', fontsize=16)\n",
    "plt.show()\n",
    "\n",
    "psb[['Singaporean', 'psbCourse']].groupby(['Singaporean'], as_index=False).mean().sort_values(by='psbCourse', ascending=False)\n",
    "\n",
    "#0.0 = non-Singaporean\n",
    "#1.0 = Singaporean\n",
    "\n",
    "#From this, we can see that SG students are more likely to continue studying\n",
    "#in PSB Academy"
   ]
  },
  {
   "cell_type": "markdown",
   "metadata": {},
   "source": [
    "##### Barplot of Students (noSib)"
   ]
  },
  {
   "cell_type": "code",
   "execution_count": 14,
   "metadata": {},
   "outputs": [
    {
     "data": {
      "image/png": "[encoded data removed]",
      "text/plain": [
       "<Figure size 432x288 with 1 Axes>"
      ]
     },
     "metadata": {
      "needs_background": "light"
     },
     "output_type": "display_data"
    },
    {
     "data": {
      "text/html": [
       "<div>\n",
       "<style scoped>\n",
       "    .dataframe tbody tr th:only-of-type {\n",
       "        vertical-align: middle;\n",
       "    }\n",
       "\n",
       "    .dataframe tbody tr th {\n",
       "        vertical-align: top;\n",
       "    }\n",
       "\n",
       "    .dataframe thead th {\n",
       "        text-align: right;\n",
       "    }\n",
       "</style>\n",
       "<table border=\"1\" class=\"dataframe\">\n",
       "  <thead>\n",
       "    <tr style=\"text-align: right;\">\n",
       "      <th></th>\n",
       "      <th>noSib</th>\n",
       "      <th>psbCourse</th>\n",
       "    </tr>\n",
       "  </thead>\n",
       "  <tbody>\n",
       "    <tr>\n",
       "      <th>0</th>\n",
       "      <td>0.0</td>\n",
       "      <td>0.734375</td>\n",
       "    </tr>\n",
       "    <tr>\n",
       "      <th>1</th>\n",
       "      <td>1.0</td>\n",
       "      <td>0.578947</td>\n",
       "    </tr>\n",
       "  </tbody>\n",
       "</table>\n",
       "</div>"
      ],
      "text/plain": [
       "   noSib  psbCourse\n",
       "0    0.0   0.734375\n",
       "1    1.0   0.578947"
      ]
     },
     "execution_count": 14,
     "metadata": {},
     "output_type": "execute_result"
    }
   ],
   "source": [
    "sns.barplot(x='noSib', y='psbCourse', data=psb)\n",
    "plt.ylabel('Rate of Students Remaining in PSB')\n",
    "plt.title('Barplot of Students (noSib)', fontsize=16)\n",
    "\n",
    "plt.show()\n",
    "psb[[\"noSib\", \"psbCourse\"]].groupby(['noSib'], as_index=False).mean().sort_values(by='psbCourse', ascending=False)\n",
    "\n",
    "#0.0 = student has siblings\n",
    "#1.0 = student has NO siblings\n",
    "\n",
    "#Students with siblings are more likely to continue their education with PSB"
   ]
  },
  {
   "cell_type": "markdown",
   "metadata": {},
   "source": [
    "###### Barplot of Students (Grade)"
   ]
  },
  {
   "cell_type": "code",
   "execution_count": 15,
   "metadata": {},
   "outputs": [
    {
     "data": {
      "image/png": "[encoded data removed]",
      "text/plain": [
       "<Figure size 432x288 with 1 Axes>"
      ]
     },
     "metadata": {
      "needs_background": "light"
     },
     "output_type": "display_data"
    },
    {
     "data": {
      "text/html": [
       "<div>\n",
       "<style scoped>\n",
       "    .dataframe tbody tr th:only-of-type {\n",
       "        vertical-align: middle;\n",
       "    }\n",
       "\n",
       "    .dataframe tbody tr th {\n",
       "        vertical-align: top;\n",
       "    }\n",
       "\n",
       "    .dataframe thead th {\n",
       "        text-align: right;\n",
       "    }\n",
       "</style>\n",
       "<table border=\"1\" class=\"dataframe\">\n",
       "  <thead>\n",
       "    <tr style=\"text-align: right;\">\n",
       "      <th></th>\n",
       "      <th>Grade</th>\n",
       "      <th>psbCourse</th>\n",
       "    </tr>\n",
       "  </thead>\n",
       "  <tbody>\n",
       "    <tr>\n",
       "      <th>9</th>\n",
       "      <td>10</td>\n",
       "      <td>0.625000</td>\n",
       "    </tr>\n",
       "    <tr>\n",
       "      <th>8</th>\n",
       "      <td>9</td>\n",
       "      <td>0.888889</td>\n",
       "    </tr>\n",
       "    <tr>\n",
       "      <th>7</th>\n",
       "      <td>8</td>\n",
       "      <td>0.864865</td>\n",
       "    </tr>\n",
       "    <tr>\n",
       "      <th>6</th>\n",
       "      <td>7</td>\n",
       "      <td>0.716981</td>\n",
       "    </tr>\n",
       "    <tr>\n",
       "      <th>5</th>\n",
       "      <td>6</td>\n",
       "      <td>0.717391</td>\n",
       "    </tr>\n",
       "    <tr>\n",
       "      <th>4</th>\n",
       "      <td>5</td>\n",
       "      <td>0.655172</td>\n",
       "    </tr>\n",
       "    <tr>\n",
       "      <th>3</th>\n",
       "      <td>4</td>\n",
       "      <td>0.500000</td>\n",
       "    </tr>\n",
       "    <tr>\n",
       "      <th>2</th>\n",
       "      <td>3</td>\n",
       "      <td>0.142857</td>\n",
       "    </tr>\n",
       "    <tr>\n",
       "      <th>1</th>\n",
       "      <td>2</td>\n",
       "      <td>0.000000</td>\n",
       "    </tr>\n",
       "    <tr>\n",
       "      <th>0</th>\n",
       "      <td>1</td>\n",
       "      <td>0.800000</td>\n",
       "    </tr>\n",
       "  </tbody>\n",
       "</table>\n",
       "</div>"
      ],
      "text/plain": [
       "   Grade  psbCourse\n",
       "9     10   0.625000\n",
       "8      9   0.888889\n",
       "7      8   0.864865\n",
       "6      7   0.716981\n",
       "5      6   0.717391\n",
       "4      5   0.655172\n",
       "3      4   0.500000\n",
       "2      3   0.142857\n",
       "1      2   0.000000\n",
       "0      1   0.800000"
      ]
     },
     "execution_count": 15,
     "metadata": {},
     "output_type": "execute_result"
    }
   ],
   "source": [
    "sns.barplot(x='Grade', y='psbCourse', data=psb)\n",
    "plt.ylabel('Rate of Students Remaining in PSB')\n",
    "plt.title('Barplot of Students (Grade)', fontsize=16)\n",
    "\n",
    "plt.show()\n",
    "psb[[\"Grade\", \"psbCourse\"]].groupby(['Grade'], as_index=False).mean().sort_values(by='Grade', ascending=False)\n",
    "\n",
    "#1 indicates a low perceived grade by the student\n",
    "#10 indicates a high perceived grade by the student\n",
    "\n",
    "#Based on the .value_counts() in the next cell,\n",
    "#We could assume that the high rate of students who answered \"1\" \n",
    "    #could be outliers, due to the low number of students who answered \"1\"\n",
    "    #(only 5 students answered \"1\")\n",
    "    #(e.g. if only 1 student answered \"1\" and is going to continue\n",
    "    #their education in PSB, the rate would be high at 1.0)\n",
    "    \n",
    "#Hence, we can say that as the students' perceived grades increase,\n",
    "#they would be more likely to further their education in PSB Academy\n",
    "\n",
    "#However for students who feel that their grades are very high (10), \n",
    "#they might be less likely to continue studying in PSB Academy after graduating\n",
    "\n",
    "#This data is important as it shows that the school needs to come up with\n",
    "#a suitable curriculum that is not too easy/difficult to the students"
   ]
  },
  {
   "cell_type": "code",
   "execution_count": 16,
   "metadata": {},
   "outputs": [
    {
     "data": {
      "text/plain": [
       "7     53\n",
       "6     46\n",
       "8     37\n",
       "5     29\n",
       "10    24\n",
       "9     18\n",
       "4     10\n",
       "3      7\n",
       "1      5\n",
       "2      1\n",
       "Name: Grade, dtype: int64"
      ]
     },
     "execution_count": 16,
     "metadata": {},
     "output_type": "execute_result"
    }
   ],
   "source": [
    "psb['Grade'].value_counts()"
   ]
  },
  {
   "cell_type": "markdown",
   "metadata": {},
   "source": [
    "##### Barplot of Students (Personality)"
   ]
  },
  {
   "cell_type": "code",
   "execution_count": 17,
   "metadata": {},
   "outputs": [
    {
     "data": {
      "image/png": "[encoded data removed]",
      "text/plain": [
       "<Figure size 432x288 with 1 Axes>"
      ]
     },
     "metadata": {
      "needs_background": "light"
     },
     "output_type": "display_data"
    },
    {
     "data": {
      "text/html": [
       "<div>\n",
       "<style scoped>\n",
       "    .dataframe tbody tr th:only-of-type {\n",
       "        vertical-align: middle;\n",
       "    }\n",
       "\n",
       "    .dataframe tbody tr th {\n",
       "        vertical-align: top;\n",
       "    }\n",
       "\n",
       "    .dataframe thead th {\n",
       "        text-align: right;\n",
       "    }\n",
       "</style>\n",
       "<table border=\"1\" class=\"dataframe\">\n",
       "  <thead>\n",
       "    <tr style=\"text-align: right;\">\n",
       "      <th></th>\n",
       "      <th>Personality</th>\n",
       "      <th>psbCourse</th>\n",
       "    </tr>\n",
       "  </thead>\n",
       "  <tbody>\n",
       "    <tr>\n",
       "      <th>4</th>\n",
       "      <td>5</td>\n",
       "      <td>0.696970</td>\n",
       "    </tr>\n",
       "    <tr>\n",
       "      <th>3</th>\n",
       "      <td>4</td>\n",
       "      <td>0.739130</td>\n",
       "    </tr>\n",
       "    <tr>\n",
       "      <th>2</th>\n",
       "      <td>3</td>\n",
       "      <td>0.763158</td>\n",
       "    </tr>\n",
       "    <tr>\n",
       "      <th>1</th>\n",
       "      <td>2</td>\n",
       "      <td>0.575758</td>\n",
       "    </tr>\n",
       "    <tr>\n",
       "      <th>0</th>\n",
       "      <td>1</td>\n",
       "      <td>0.631579</td>\n",
       "    </tr>\n",
       "  </tbody>\n",
       "</table>\n",
       "</div>"
      ],
      "text/plain": [
       "   Personality  psbCourse\n",
       "4            5   0.696970\n",
       "3            4   0.739130\n",
       "2            3   0.763158\n",
       "1            2   0.575758\n",
       "0            1   0.631579"
      ]
     },
     "execution_count": 17,
     "metadata": {},
     "output_type": "execute_result"
    }
   ],
   "source": [
    "sns.barplot(x='Personality', y='psbCourse', data=psb)\n",
    "plt.ylabel('Rate of Students Remaining in PSB')\n",
    "plt.title('Barplot of Students (Personality)', fontsize=16)\n",
    "\n",
    "plt.show()\n",
    "psb[[\"Personality\", \"psbCourse\"]].groupby(['Personality'], as_index=False).mean().sort_values(by='Personality', ascending=False)\n",
    "\n",
    "#Students who answered \"1\" are more introverted\n",
    "#Students who answered \"5\" are more extroverted"
   ]
  },
  {
   "cell_type": "code",
   "execution_count": 18,
   "metadata": {},
   "outputs": [
    {
     "data": {
      "text/plain": [
       "3    76\n",
       "4    69\n",
       "5    33\n",
       "2    33\n",
       "1    19\n",
       "Name: Personality, dtype: int64"
      ]
     },
     "execution_count": 18,
     "metadata": {},
     "output_type": "execute_result"
    }
   ],
   "source": [
    "psb['Personality'].value_counts()"
   ]
  },
  {
   "cell_type": "markdown",
   "metadata": {},
   "source": [
    "##### Barplot of Students (Aptitude)"
   ]
  },
  {
   "cell_type": "code",
   "execution_count": 19,
   "metadata": {},
   "outputs": [
    {
     "data": {
      "image/png": "[encoded data removed]",
      "text/plain": [
       "<Figure size 432x288 with 1 Axes>"
      ]
     },
     "metadata": {
      "needs_background": "light"
     },
     "output_type": "display_data"
    },
    {
     "data": {
      "text/html": [
       "<div>\n",
       "<style scoped>\n",
       "    .dataframe tbody tr th:only-of-type {\n",
       "        vertical-align: middle;\n",
       "    }\n",
       "\n",
       "    .dataframe tbody tr th {\n",
       "        vertical-align: top;\n",
       "    }\n",
       "\n",
       "    .dataframe thead th {\n",
       "        text-align: right;\n",
       "    }\n",
       "</style>\n",
       "<table border=\"1\" class=\"dataframe\">\n",
       "  <thead>\n",
       "    <tr style=\"text-align: right;\">\n",
       "      <th></th>\n",
       "      <th>Aptitude</th>\n",
       "      <th>psbCourse</th>\n",
       "    </tr>\n",
       "  </thead>\n",
       "  <tbody>\n",
       "    <tr>\n",
       "      <th>9</th>\n",
       "      <td>10</td>\n",
       "      <td>0.793103</td>\n",
       "    </tr>\n",
       "    <tr>\n",
       "      <th>8</th>\n",
       "      <td>9</td>\n",
       "      <td>0.937500</td>\n",
       "    </tr>\n",
       "    <tr>\n",
       "      <th>7</th>\n",
       "      <td>8</td>\n",
       "      <td>0.744186</td>\n",
       "    </tr>\n",
       "    <tr>\n",
       "      <th>6</th>\n",
       "      <td>7</td>\n",
       "      <td>0.787234</td>\n",
       "    </tr>\n",
       "    <tr>\n",
       "      <th>5</th>\n",
       "      <td>6</td>\n",
       "      <td>0.619048</td>\n",
       "    </tr>\n",
       "    <tr>\n",
       "      <th>4</th>\n",
       "      <td>5</td>\n",
       "      <td>0.647059</td>\n",
       "    </tr>\n",
       "    <tr>\n",
       "      <th>3</th>\n",
       "      <td>4</td>\n",
       "      <td>0.666667</td>\n",
       "    </tr>\n",
       "    <tr>\n",
       "      <th>2</th>\n",
       "      <td>3</td>\n",
       "      <td>0.411765</td>\n",
       "    </tr>\n",
       "    <tr>\n",
       "      <th>1</th>\n",
       "      <td>2</td>\n",
       "      <td>0.600000</td>\n",
       "    </tr>\n",
       "    <tr>\n",
       "      <th>0</th>\n",
       "      <td>1</td>\n",
       "      <td>0.500000</td>\n",
       "    </tr>\n",
       "  </tbody>\n",
       "</table>\n",
       "</div>"
      ],
      "text/plain": [
       "   Aptitude  psbCourse\n",
       "9        10   0.793103\n",
       "8         9   0.937500\n",
       "7         8   0.744186\n",
       "6         7   0.787234\n",
       "5         6   0.619048\n",
       "4         5   0.647059\n",
       "3         4   0.666667\n",
       "2         3   0.411765\n",
       "1         2   0.600000\n",
       "0         1   0.500000"
      ]
     },
     "execution_count": 19,
     "metadata": {},
     "output_type": "execute_result"
    }
   ],
   "source": [
    "sns.barplot(x='Aptitude', y='psbCourse', data=psb)\n",
    "plt.ylabel('Rate of Students Remaining in PSB')\n",
    "plt.title('Barplot of Students (Aptitude)', fontsize=16)\n",
    "\n",
    "plt.show()\n",
    "psb[[\"Aptitude\", \"psbCourse\"]].groupby(['Aptitude'], as_index=False).mean().sort_values(by='Aptitude', ascending=False)\n",
    "\n",
    "#Students who answered \"10\" have a higher aptitude to work in groups\n",
    "#Students who answered \"1\" have a lower aptitude to work in group"
   ]
  },
  {
   "cell_type": "markdown",
   "metadata": {},
   "source": [
    "##### Barplot of Students (LikeSingapore)"
   ]
  },
  {
   "cell_type": "code",
   "execution_count": 20,
   "metadata": {},
   "outputs": [
    {
     "data": {
      "image/png": "[encoded data removed]",
      "text/plain": [
       "<Figure size 432x288 with 1 Axes>"
      ]
     },
     "metadata": {
      "needs_background": "light"
     },
     "output_type": "display_data"
    },
    {
     "data": {
      "text/html": [
       "<div>\n",
       "<style scoped>\n",
       "    .dataframe tbody tr th:only-of-type {\n",
       "        vertical-align: middle;\n",
       "    }\n",
       "\n",
       "    .dataframe tbody tr th {\n",
       "        vertical-align: top;\n",
       "    }\n",
       "\n",
       "    .dataframe thead th {\n",
       "        text-align: right;\n",
       "    }\n",
       "</style>\n",
       "<table border=\"1\" class=\"dataframe\">\n",
       "  <thead>\n",
       "    <tr style=\"text-align: right;\">\n",
       "      <th></th>\n",
       "      <th>LikeSingapore</th>\n",
       "      <th>psbCourse</th>\n",
       "    </tr>\n",
       "  </thead>\n",
       "  <tbody>\n",
       "    <tr>\n",
       "      <th>9</th>\n",
       "      <td>10</td>\n",
       "      <td>0.761905</td>\n",
       "    </tr>\n",
       "    <tr>\n",
       "      <th>8</th>\n",
       "      <td>9</td>\n",
       "      <td>0.782609</td>\n",
       "    </tr>\n",
       "    <tr>\n",
       "      <th>7</th>\n",
       "      <td>8</td>\n",
       "      <td>0.843750</td>\n",
       "    </tr>\n",
       "    <tr>\n",
       "      <th>6</th>\n",
       "      <td>7</td>\n",
       "      <td>0.893617</td>\n",
       "    </tr>\n",
       "    <tr>\n",
       "      <th>5</th>\n",
       "      <td>6</td>\n",
       "      <td>0.702703</td>\n",
       "    </tr>\n",
       "    <tr>\n",
       "      <th>4</th>\n",
       "      <td>5</td>\n",
       "      <td>0.566667</td>\n",
       "    </tr>\n",
       "    <tr>\n",
       "      <th>3</th>\n",
       "      <td>4</td>\n",
       "      <td>0.272727</td>\n",
       "    </tr>\n",
       "    <tr>\n",
       "      <th>2</th>\n",
       "      <td>3</td>\n",
       "      <td>0.571429</td>\n",
       "    </tr>\n",
       "    <tr>\n",
       "      <th>1</th>\n",
       "      <td>2</td>\n",
       "      <td>1.000000</td>\n",
       "    </tr>\n",
       "    <tr>\n",
       "      <th>0</th>\n",
       "      <td>1</td>\n",
       "      <td>0.333333</td>\n",
       "    </tr>\n",
       "  </tbody>\n",
       "</table>\n",
       "</div>"
      ],
      "text/plain": [
       "   LikeSingapore  psbCourse\n",
       "9             10   0.761905\n",
       "8              9   0.782609\n",
       "7              8   0.843750\n",
       "6              7   0.893617\n",
       "5              6   0.702703\n",
       "4              5   0.566667\n",
       "3              4   0.272727\n",
       "2              3   0.571429\n",
       "1              2   1.000000\n",
       "0              1   0.333333"
      ]
     },
     "execution_count": 20,
     "metadata": {},
     "output_type": "execute_result"
    }
   ],
   "source": [
    "sns.barplot(x='LikeSingapore', y='psbCourse', data=psb)\n",
    "plt.ylabel('Rate of Students Remaining in PSB')\n",
    "plt.title('Barplot of Students (LikeSingapore)', fontsize=16)\n",
    "\n",
    "plt.show()\n",
    "psb[[\"LikeSingapore\", \"psbCourse\"]].groupby(['LikeSingapore'], as_index=False).mean().sort_values(by='LikeSingapore', ascending=False)\n",
    "\n",
    "#1 is the least\n",
    "#10 is the most"
   ]
  },
  {
   "cell_type": "code",
   "execution_count": 21,
   "metadata": {},
   "outputs": [
    {
     "data": {
      "text/plain": [
       "7     47\n",
       "6     37\n",
       "8     32\n",
       "5     30\n",
       "9     23\n",
       "10    21\n",
       "1     18\n",
       "4     11\n",
       "3      7\n",
       "2      4\n",
       "Name: LikeSingapore, dtype: int64"
      ]
     },
     "execution_count": 21,
     "metadata": {},
     "output_type": "execute_result"
    }
   ],
   "source": [
    "psb['LikeSingapore'].value_counts()"
   ]
  },
  {
   "cell_type": "markdown",
   "metadata": {},
   "source": [
    "##### Barplot of Students (LikePSB)"
   ]
  },
  {
   "cell_type": "code",
   "execution_count": 22,
   "metadata": {},
   "outputs": [
    {
     "data": {
      "image/png": "[encoded data removed]",
      "text/plain": [
       "<Figure size 432x288 with 1 Axes>"
      ]
     },
     "metadata": {
      "needs_background": "light"
     },
     "output_type": "display_data"
    },
    {
     "data": {
      "text/html": [
       "<div>\n",
       "<style scoped>\n",
       "    .dataframe tbody tr th:only-of-type {\n",
       "        vertical-align: middle;\n",
       "    }\n",
       "\n",
       "    .dataframe tbody tr th {\n",
       "        vertical-align: top;\n",
       "    }\n",
       "\n",
       "    .dataframe thead th {\n",
       "        text-align: right;\n",
       "    }\n",
       "</style>\n",
       "<table border=\"1\" class=\"dataframe\">\n",
       "  <thead>\n",
       "    <tr style=\"text-align: right;\">\n",
       "      <th></th>\n",
       "      <th>LikePSB</th>\n",
       "      <th>psbCourse</th>\n",
       "    </tr>\n",
       "  </thead>\n",
       "  <tbody>\n",
       "    <tr>\n",
       "      <th>9</th>\n",
       "      <td>10</td>\n",
       "      <td>0.722222</td>\n",
       "    </tr>\n",
       "    <tr>\n",
       "      <th>8</th>\n",
       "      <td>9</td>\n",
       "      <td>0.782609</td>\n",
       "    </tr>\n",
       "    <tr>\n",
       "      <th>7</th>\n",
       "      <td>8</td>\n",
       "      <td>0.916667</td>\n",
       "    </tr>\n",
       "    <tr>\n",
       "      <th>6</th>\n",
       "      <td>7</td>\n",
       "      <td>0.818182</td>\n",
       "    </tr>\n",
       "    <tr>\n",
       "      <th>5</th>\n",
       "      <td>6</td>\n",
       "      <td>0.793103</td>\n",
       "    </tr>\n",
       "    <tr>\n",
       "      <th>4</th>\n",
       "      <td>5</td>\n",
       "      <td>0.575758</td>\n",
       "    </tr>\n",
       "    <tr>\n",
       "      <th>3</th>\n",
       "      <td>4</td>\n",
       "      <td>0.571429</td>\n",
       "    </tr>\n",
       "    <tr>\n",
       "      <th>2</th>\n",
       "      <td>3</td>\n",
       "      <td>0.666667</td>\n",
       "    </tr>\n",
       "    <tr>\n",
       "      <th>1</th>\n",
       "      <td>2</td>\n",
       "      <td>0.000000</td>\n",
       "    </tr>\n",
       "    <tr>\n",
       "      <th>0</th>\n",
       "      <td>1</td>\n",
       "      <td>0.250000</td>\n",
       "    </tr>\n",
       "  </tbody>\n",
       "</table>\n",
       "</div>"
      ],
      "text/plain": [
       "   LikePSB  psbCourse\n",
       "9       10   0.722222\n",
       "8        9   0.782609\n",
       "7        8   0.916667\n",
       "6        7   0.818182\n",
       "5        6   0.793103\n",
       "4        5   0.575758\n",
       "3        4   0.571429\n",
       "2        3   0.666667\n",
       "1        2   0.000000\n",
       "0        1   0.250000"
      ]
     },
     "execution_count": 22,
     "metadata": {},
     "output_type": "execute_result"
    }
   ],
   "source": [
    "sns.barplot(x='LikePSB', y='psbCourse', data=psb)\n",
    "plt.ylabel('Rate of Students Remaining in PSB')\n",
    "plt.title('Barplot of Students (LikePSB)', fontsize=16)\n",
    "\n",
    "plt.show()\n",
    "psb[[\"LikePSB\", \"psbCourse\"]].groupby(['LikePSB'], as_index=False).mean().sort_values(by='LikePSB', ascending=False)"
   ]
  },
  {
   "cell_type": "markdown",
   "metadata": {},
   "source": [
    "### Split data into train/validation/test sets"
   ]
  },
  {
   "cell_type": "markdown",
   "metadata": {},
   "source": [
    "It is possible to fit a model to our dataset and test for its accuracy (how many predictions did it get right), but [overfitting](https://www.youtube.com/watch?v=sJgPnuiHrs8) may occur which leads to inaccuracies. \n",
    "\n",
    "Therefore, we will split our dataset into three sets: [a training set, a cross-validation set, and a test set.](https://www.codecademy.com/articles/training-set-vs-validation-set-vs-test-set)\n",
    "\n",
    "We will fit our model to the **training set**, then use the **validation set** to evaluate the model we created and tune our hyperparameters accordingly. Finally, we the **test set** will be used to provide a final evaluation of our model. "
   ]
  },
  {
   "cell_type": "code",
   "execution_count": 23,
   "metadata": {},
   "outputs": [],
   "source": [
    "#scikit-learn(sklearn) will be used to split our dataset \n",
    "\n",
    "#here, the dataset is split as such:\n",
    "#training set: 60%\n",
    "#cross-validation set: 20%\n",
    "#test set: 20%\n",
    "\n",
    "from sklearn.model_selection import train_test_split\n",
    "features = psb.drop(columns='psbCourse')\n",
    "labels = psb['psbCourse']\n",
    "\n",
    "#the code below splits the dataset into a training set (60%) and test set (40%)\n",
    "X_train, X_test, y_train, y_test = train_test_split(features, labels, \n",
    "                                                    test_size = 0.4, \n",
    "                                                    random_state = 22)\n",
    "\n",
    "#the code below further splits the test set into half,\n",
    "#resulting in a final training (60%), validation (20%), test(20%) split\n",
    "X_val, X_test, y_val, y_test = train_test_split(X_test, y_test, \n",
    "                                                test_size = 0.5, \n",
    "                                                random_state = 22)"
   ]
  },
  {
   "cell_type": "markdown",
   "metadata": {},
   "source": [
    "### Fit model and tune hyperparameters"
   ]
  },
  {
   "cell_type": "markdown",
   "metadata": {},
   "source": [
    "For the project, students were introduced to 5 different ML algorithms:\n",
    "* Logistic Regression\n",
    "* Support Vector Machine\n",
    "* Multi-layer Perceptron\n",
    "* Random Forest\n",
    "* Gradient Boosting\n",
    "\n",
    "The following code features the [Logistic Regression](https://www.datacamp.com/community/tutorials/understanding-logistic-regression-python) algorithm. \n",
    "\n",
    "([Official sklearn.linear_model.LogisticRegression documentation](https://scikit-learn.org/stable/modules/generated/sklearn.linear_model.LogisticRegression.html))\n",
    "\n",
    "Despite its name, logistic regression can be used to solve classification problems!\n",
    "\n",
    "It is a good algorithm to be used when the target variable has a binary value (e.g. 0 or 1, Yes or No).\n",
    "\n",
    "![Image of Brief overview on how Logistic Regression works](https://i.imgur.com/OkHaGyh.png)\n",
    "(Image from Applied Machine Learning: Algorithms, Derek Jedamski)"
   ]
  },
  {
   "cell_type": "code",
   "execution_count": 24,
   "metadata": {},
   "outputs": [],
   "source": [
    "#joblib will later be used to pickle our model to be saved for further use\n",
    "import joblib\n",
    "\n",
    "#scikit-learn (sklearn) will provide the algorithms to be used\n",
    "from sklearn.linear_model import LogisticRegression\n",
    "from sklearn.model_selection import GridSearchCV\n",
    "import warnings\n",
    "warnings.filterwarnings('ignore', category=FutureWarning)\n",
    "warnings.filterwarnings('ignore', category=DeprecationWarning)"
   ]
  },
  {
   "cell_type": "code",
   "execution_count": 25,
   "metadata": {},
   "outputs": [],
   "source": [
    "#the function defined in this cell will be called in the next cell\n",
    "def print_results(results):\n",
    "    \n",
    "    #output the best hyperparameters\n",
    "    print(f'Best parameters: {results.best_params_}\\n')\n",
    "    \n",
    "    means = results.cv_results_['mean_test_score']\n",
    "    stds = results.cv_results_['std_test_score']\n",
    "    params = results.cv_results_['params']\n",
    "    \n",
    "    for mean, std, param in zip(means, stds, params):\n",
    "        print(f'{round(mean,3)} (+/-{round(std *2,3)}) for {param}')"
   ]
  },
  {
   "cell_type": "markdown",
   "metadata": {},
   "source": [
    "The C hyperparameter is the inverse regularization parameter to control how closely the model fits to the training data. Regularization is used to reduce overfitting in the machine learning models. \n",
    "\n",
    "**High** values of C results in a highly complex model, where there is low regularization and the model is more likely to overfit. \n",
    "\n",
    "On the other hand, **low** values of C will result in a less complex model, with high regularization, and the model is more likely to underfit.\n",
    "\n",
    "The following code will find a suitable value of C to be used in the model:"
   ]
  },
  {
   "cell_type": "code",
   "execution_count": 26,
   "metadata": {},
   "outputs": [
    {
     "name": "stdout",
     "output_type": "stream",
     "text": [
      "Best parameters: {'C': 0.0001}\n",
      "\n",
      "0.703 (+/-0.006) for {'C': 0.0001}\n",
      "0.703 (+/-0.006) for {'C': 0.001}\n",
      "0.703 (+/-0.006) for {'C': 0.01}\n",
      "0.667 (+/-0.019) for {'C': 0.1}\n"
     ]
    }
   ],
   "source": [
    "lr = LogisticRegression()\n",
    "\n",
    "parameters_lr = {\n",
    "    'C': [0.0001, 0.001, 0.01, 0.1]\n",
    "}\n",
    "\n",
    "cv_lr = GridSearchCV(lr, parameters_lr, cv=2)\n",
    "cv_lr.fit(X_train, y_train.values.ravel())\n",
    "\n",
    "print_results(cv_lr)"
   ]
  },
  {
   "cell_type": "code",
   "execution_count": 27,
   "metadata": {},
   "outputs": [
    {
     "data": {
      "text/plain": [
       "LogisticRegression(C=0.0001, class_weight=None, dual=False, fit_intercept=True,\n",
       "                   intercept_scaling=1, l1_ratio=None, max_iter=100,\n",
       "                   multi_class='warn', n_jobs=None, penalty='l2',\n",
       "                   random_state=None, solver='warn', tol=0.0001, verbose=0,\n",
       "                   warm_start=False)"
      ]
     },
     "execution_count": 27,
     "metadata": {},
     "output_type": "execute_result"
    }
   ],
   "source": [
    "cv_lr.best_estimator_"
   ]
  },
  {
   "cell_type": "code",
   "execution_count": 28,
   "metadata": {},
   "outputs": [
    {
     "data": {
      "text/plain": [
       "['LR_psbmodel.pkl']"
      ]
     },
     "execution_count": 28,
     "metadata": {},
     "output_type": "execute_result"
    }
   ],
   "source": [
    "joblib.dump(cv_lr.best_estimator_, 'LR_psbmodel.pkl')"
   ]
  },
  {
   "cell_type": "markdown",
   "metadata": {},
   "source": [
    "### Evaluate on validation and test set"
   ]
  },
  {
   "cell_type": "code",
   "execution_count": 29,
   "metadata": {},
   "outputs": [],
   "source": [
    "from sklearn.metrics import accuracy_score, precision_score, recall_score\n",
    "from time import time"
   ]
  },
  {
   "cell_type": "code",
   "execution_count": 30,
   "metadata": {},
   "outputs": [],
   "source": [
    "models = {}\n",
    "\n",
    "models['LR'] = joblib.load('LR_psbmodel.pkl')"
   ]
  },
  {
   "cell_type": "code",
   "execution_count": 31,
   "metadata": {},
   "outputs": [],
   "source": [
    "def evaluate_model(name,model,features,labels):\n",
    "    start = time()\n",
    "    pred = model.predict(features)\n",
    "    end = time()\n",
    "    accuracy = round(accuracy_score(labels,pred),3)\n",
    "    precision = round(precision_score(labels,pred),3)\n",
    "    recall = round(recall_score(labels,pred),3)\n",
    "    print(f'{name} -- Accuracy: {accuracy} / Precision: {precision} / Recall: {recall}')"
   ]
  },
  {
   "cell_type": "markdown",
   "metadata": {},
   "source": [
    "**Evaluation metrics**: [Accuracy](https://developers.google.com/machine-learning/crash-course/classification/accuracy) v.s. [Precision and Recall](https://developers.google.com/machine-learning/crash-course/classification/precision-and-recall)"
   ]
  },
  {
   "cell_type": "code",
   "execution_count": 32,
   "metadata": {
    "scrolled": false
   },
   "outputs": [
    {
     "name": "stdout",
     "output_type": "stream",
     "text": [
      "LR -- Accuracy: 0.696 / Precision: 0.696 / Recall: 1.0\n"
     ]
    }
   ],
   "source": [
    "for name, mdl in models.items():\n",
    "    evaluate_model(name, mdl, X_val, y_val)"
   ]
  },
  {
   "cell_type": "code",
   "execution_count": 33,
   "metadata": {},
   "outputs": [
    {
     "name": "stdout",
     "output_type": "stream",
     "text": [
      "LR -- Accuracy: 0.739 / Precision: 0.739 / Recall: 1.0\n"
     ]
    }
   ],
   "source": [
    "evaluate_model('LR', models['LR'], X_test, y_test)"
   ]
  },
  {
   "cell_type": "markdown",
   "metadata": {},
   "source": [
    "### Additional notes\n",
    "\n",
    "PSB Academy's SCS Student Chapter consists of 3 Focus Groups: \n",
    "* AI (Artificial Intelligence) Focus Group\n",
    "* Cybersecurity Focus Group\n",
    "* Design Thinking Focus Group\n",
    "\n",
    "Each Focus Group runs weekly peer-learning sessions to share more about their respective topics to interested students. \n",
    "***\n",
    "If you are interested in AI and would like to learn more about Machine Learning, below are some links to resources to help you get started in your Machine Learning journey!\n",
    "\n",
    "* **Machine Learning Crash Course, Google**- https://developers.google.com/machine-learning/crash-course\n",
    "<br><br>\n",
    "* **Stanford Machine Learning, Coursera**- https://www.coursera.org/learn/machine-learning\n",
    "    * Coursework can be audited for free. You can also apply for financial aid to receive the certification for free. \n",
    "<br><br>\n",
    "* **Intel AI Academy**- https://makerspace.aisingapore.org/courses/intel-ai-academy/\n",
    "<br><br>\n",
    "* **Titanic: ML from Disaster, Kaggle**- https://www.kaggle.com/c/titanic\n",
    "<br><br>\n",
    "* **Applied Machine Learning: Algorithms** (requires Lynda.com/LinkedIn learning subscription): https://www.lynda.com/Python-tutorials/Applied-Machine-Learning-Algorithms/806167-2.html"
   ]
  },
  {
   "cell_type": "code",
   "execution_count": null,
   "metadata": {},
   "outputs": [],
   "source": []
  }
 ],
 "metadata": {
  "kernelspec": {
   "display_name": "Python 3",
   "language": "python",
   "name": "python3"
  },
  "language_info": {
   "codemirror_mode": {
    "name": "ipython",
    "version": 3
   },
   "file_extension": ".py",
   "mimetype": "text/x-python",
   "name": "python",
   "nbconvert_exporter": "python",
   "pygments_lexer": "ipython3",
   "version": "3.7.4"
  }
 },
 "nbformat": 4,
 "nbformat_minor": 2
}
